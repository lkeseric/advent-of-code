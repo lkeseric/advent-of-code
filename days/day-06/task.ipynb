{
 "cells": [
  {
   "cell_type": "code",
   "execution_count": 41,
   "metadata": {},
   "outputs": [
    {
     "name": "stderr",
     "output_type": "stream",
     "text": [
      "current_day is only available in December (EST)\n"
     ]
    }
   ],
   "source": [
    "import ast\n",
    "import copy\n",
    "import re\n",
    "\n",
    "from tqdm import tqdm\n",
    "import matplotlib.pyplot as plt\n",
    "import numpy as np\n",
    "import pandas as pd\n",
    "from aocd import get_data, submit\n",
    "\n",
    "DAY = 6\n",
    "YEAR = 2023"
   ]
  },
  {
   "cell_type": "code",
   "execution_count": 3,
   "metadata": {},
   "outputs": [
    {
     "name": "stdout",
     "output_type": "stream",
     "text": [
      "input\n"
     ]
    }
   ],
   "source": [
    "# use test data\n",
    "raw_test = \"\"\"input\"\"\"\n",
    "\n",
    "# use real data\n",
    "raw = get_data(day=DAY, year=YEAR)\n",
    "\n",
    "print(raw_test)"
   ]
  },
  {
   "cell_type": "code",
   "execution_count": 27,
   "metadata": {},
   "outputs": [
    {
     "data": {
      "text/plain": [
       "[['Time:', '44', '80', '65', '72'],\n",
       " ['Distance:', '208', '1581', '1050', '1102']]"
      ]
     },
     "execution_count": 27,
     "metadata": {},
     "output_type": "execute_result"
    }
   ],
   "source": [
    "def filter_empty(data):\n",
    "    if data == '':\n",
    "        return False\n",
    "    else:\n",
    "        return True\n",
    "\n",
    "def parse_data(data):\n",
    "    data = data.split(\"\\n\")\n",
    "    data = [d.split() for d in data]\n",
    "    # data = [d.split('\\n') for d in data.split('\\n\\n')]\n",
    "    # data = [np.array(d.split('\\n'), dtype=int) for d in data.split('\\n\\n')]\n",
    "\n",
    "    \n",
    "    return data\n",
    "\n",
    "\n",
    "dummy = parse_data(raw_test)\n",
    "real = parse_data(raw)\n",
    "\n",
    "real"
   ]
  },
  {
   "cell_type": "markdown",
   "metadata": {},
   "source": [
    "# Part 1"
   ]
  },
  {
   "cell_type": "code",
   "execution_count": 36,
   "metadata": {},
   "outputs": [
    {
     "name": "stdout",
     "output_type": "stream",
     "text": [
      "32076\n"
     ]
    }
   ],
   "source": [
    "times = list()\n",
    "distances = list()\n",
    "counts = list()\n",
    "count = 0\n",
    "\n",
    "for data in real:\n",
    "    if \"Time\" in data[0]:\n",
    "        times = data[1:]\n",
    "        times = [int(t) for t in times]\n",
    "    if \"Distance\" in data[0]:\n",
    "        distances = data[1:]\n",
    "        distances = [int(d) for d in distances]\n",
    "\n",
    "for i in range(len(times)):\n",
    "    count = 0\n",
    "    for velocity in range(1, times[i]):\n",
    "        travel_time = times[i] - velocity\n",
    "        if travel_time * velocity > distances[i]:\n",
    "            count += 1\n",
    "    \n",
    "    counts.append(count)\n",
    "            \n",
    "        \n",
    "result = int(np.prod(counts))\n",
    "print(result)"
   ]
  },
  {
   "cell_type": "code",
   "execution_count": 37,
   "metadata": {},
   "outputs": [
    {
     "name": "stdout",
     "output_type": "stream",
     "text": [
      "Part a already solved with same answer: 32076\n"
     ]
    }
   ],
   "source": [
    "submit(result, part=\"a\", day=DAY, year=YEAR)"
   ]
  },
  {
   "cell_type": "markdown",
   "metadata": {},
   "source": [
    "# Part 2"
   ]
  },
  {
   "cell_type": "code",
   "execution_count": 42,
   "metadata": {},
   "outputs": [
    {
     "name": "stderr",
     "output_type": "stream",
     "text": [
      "100%|██████████| 44806571/44806571 [00:14<00:00, 3192557.26it/s]"
     ]
    },
    {
     "name": "stdout",
     "output_type": "stream",
     "text": [
      "34278221\n"
     ]
    },
    {
     "name": "stderr",
     "output_type": "stream",
     "text": [
      "\n"
     ]
    }
   ],
   "source": [
    "for data in real:\n",
    "    if \"Time\" in data[0]:\n",
    "        time = int(\"\".join(data[1:]))\n",
    "    if \"Distance\" in data[0]:\n",
    "        distance = int(\"\".join(data[1:]))\n",
    "\n",
    "count = 0\n",
    "for velocity in tqdm(range(1, time)):\n",
    "    travel_time = time - velocity\n",
    "    if travel_time * velocity > distance:\n",
    "        count += 1\n",
    "\n",
    "result = count\n",
    "print(result)"
   ]
  },
  {
   "cell_type": "code",
   "execution_count": 43,
   "metadata": {},
   "outputs": [
    {
     "name": "stdout",
     "output_type": "stream",
     "text": [
      "\u001b[32mThat's the right answer!  You are one gold star closer to restoring snow operations.You have completed Day 6! You can [Shareon\n",
      "  Twitter\n",
      "Mastodon] this victory or [Return to Your Advent Calendar].\u001b[0m\n"
     ]
    },
    {
     "data": {
      "text/plain": [
       "<Response [200]>"
      ]
     },
     "execution_count": 43,
     "metadata": {},
     "output_type": "execute_result"
    }
   ],
   "source": [
    "submit(result, part=\"b\", day=DAY, year=YEAR)"
   ]
  }
 ],
 "metadata": {
  "kernelspec": {
   "display_name": "Python 3.10.4 64-bit ('aoc-2022')",
   "language": "python",
   "name": "python3"
  },
  "language_info": {
   "codemirror_mode": {
    "name": "ipython",
    "version": 3
   },
   "file_extension": ".py",
   "mimetype": "text/x-python",
   "name": "python",
   "nbconvert_exporter": "python",
   "pygments_lexer": "ipython3",
   "version": "3.8.18"
  },
  "orig_nbformat": 4,
  "vscode": {
   "interpreter": {
    "hash": "5624460fa9e1cd9da4e6994541d8ff42604db2bd2a1d59618c452d0f7bde50e7"
   }
  }
 },
 "nbformat": 4,
 "nbformat_minor": 2
}
