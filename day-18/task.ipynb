{
 "cells": [
  {
   "cell_type": "code",
   "execution_count": 2,
   "metadata": {},
   "outputs": [],
   "source": [
    "# imports\n",
    "import numpy as np\n",
    "import re"
   ]
  },
  {
   "cell_type": "code",
   "execution_count": 3,
   "metadata": {},
   "outputs": [],
   "source": [
    "# inputs\n",
    "test_data = [eval(line) for line in open('input-test.txt').readlines()]"
   ]
  },
  {
   "cell_type": "markdown",
   "metadata": {},
   "source": [
    "# Part 1"
   ]
  },
  {
   "cell_type": "code",
   "execution_count": 32,
   "metadata": {},
   "outputs": [
    {
     "data": {
      "text/plain": [
       "[([0, 0], 3),\n",
       " ([0, 1, 0], 2),\n",
       " ([0, 1, 1, 0], 1),\n",
       " ([0, 1, 1, 1, 0], 7),\n",
       " ([0, 1, 1, 1, 1], 3),\n",
       " ([1, 0], 6),\n",
       " ([1, 1, 0], 5),\n",
       " ([1, 1, 1, 0], 4),\n",
       " ([1, 1, 1, 1, 0], 3),\n",
       " ([1, 1, 1, 1, 1], 2)]"
      ]
     },
     "execution_count": 32,
     "metadata": {},
     "output_type": "execute_result"
    }
   ],
   "source": [
    "# test\n",
    "content = test_data\n",
    "\n",
    "def encode_number(number, encoded=None, depth=None):\n",
    "    if encoded is None:\n",
    "        encoded = []\n",
    "        depth = []\n",
    "\n",
    "    for idx, el in enumerate(number):\n",
    "        if isinstance(el, list):\n",
    "            encoded = encode_number(el, encoded, depth+[idx])\n",
    "        else:\n",
    "            encoded.append((depth+[idx], el))\n",
    "    return encoded\n",
    "\n",
    "def decode_number(array):\n",
    "    number = []\n",
    "    for depth, val in array:\n",
    "        val = None\n",
    "        for d in depth:\n",
    "            if val is None:\n",
    "                val = [val]\n",
    "\n",
    "        \n",
    "\n",
    "\n",
    "    \n",
    "\n",
    "\n",
    "# def explode_snailfish(encoded, depth=0):\n",
    "#     new_encoded = []\n",
    "#     explode = False\n",
    "#     for idx, (num, depth) in enumerate(encoded):\n",
    "#         if depth >= 4:\n",
    "#             explode = True\n",
    "#             break\n",
    "#         new_encoded.append((num, depth))\n",
    "\n",
    "#     if not explode:\n",
    "#         return new_encoded\n",
    "\n",
    "#     if idx == 0:\n",
    "#         new_encoded.extend([(0, depth-1), (encoded[idx+1][0]+encoded[idx+2][0], encoded[idx+2][1])])\n",
    "#     elif idx == len(encoded)-2:\n",
    "#         new_encoded.pop(-1)\n",
    "#         new_encoded.extend([(encoded[idx-1][0]+encoded[idx-0][0], encoded[idx-1][1]), (0, depth-1)])\n",
    "#     else:\n",
    "#         new_encoded.pop(-1)\n",
    "#         new_encoded.extend([\n",
    "#             (encoded[idx-1][0]+encoded[idx][0], encoded[idx-1][1]),\n",
    "#             (0, depth-1),\n",
    "#             (encoded[idx+1][0]+encoded[idx+2][0], encoded[idx+2][1])\n",
    "#         ])\n",
    "\n",
    "#     new_encoded.extend(encoded[idx+3:])\n",
    "\n",
    "#     return new_encoded\n",
    "        \n",
    "# def reduce_snailfish(number, depth=0):\n",
    "# def sum_snailfish(a, b)\n",
    "test = encode_number([[3,[2,[1,[7,3]]]],[6,[5,[4,[3,2]]]]])\n",
    "test"
   ]
  },
  {
   "cell_type": "code",
   "execution_count": 39,
   "metadata": {},
   "outputs": [
    {
     "data": {
      "text/plain": [
       "[3, [2, [1, [7, 3]]]]"
      ]
     },
     "execution_count": 39,
     "metadata": {},
     "output_type": "execute_result"
    }
   ],
   "source": [
    "test = [[3,[2,[1,[7,3]]]],[6,[5,[4,[3,2]]]]]\n",
    "test[0]"
   ]
  },
  {
   "cell_type": "code",
   "execution_count": 24,
   "metadata": {},
   "outputs": [
    {
     "data": {
      "text/plain": [
       "[3, [2, [1, [7, 3]]]]"
      ]
     },
     "execution_count": 24,
     "metadata": {},
     "output_type": "execute_result"
    }
   ],
   "source": [
    "a[0]"
   ]
  },
  {
   "cell_type": "code",
   "execution_count": 61,
   "metadata": {},
   "outputs": [
    {
     "data": {
      "text/plain": [
       "[[[[[0]]]]]"
      ]
     },
     "execution_count": 61,
     "metadata": {},
     "output_type": "execute_result"
    }
   ],
   "source": [
    "np.zeros((1,1,1,1,1), dtype=int).tolist()"
   ]
  },
  {
   "cell_type": "code",
   "execution_count": 48,
   "metadata": {},
   "outputs": [
    {
     "data": {
      "text/plain": [
       "array([[5]])"
      ]
     },
     "execution_count": 48,
     "metadata": {},
     "output_type": "execute_result"
    }
   ],
   "source": [
    "np.expand_dims([5], -1)"
   ]
  },
  {
   "cell_type": "code",
   "execution_count": 21,
   "metadata": {},
   "outputs": [
    {
     "data": {
      "text/plain": [
       "[24, 79, 3160]"
      ]
     },
     "execution_count": 21,
     "metadata": {},
     "output_type": "execute_result"
    }
   ],
   "source": [
    "# real\n",
    "content = data\n",
    "res = [[x, y, launch_probe((x, y), content)] for x in range(200) for y in range(200)]\n",
    "res = [r for r in res if r[-1] is not None]\n",
    "res[np.argmax(np.array(res)[:, -1])]"
   ]
  },
  {
   "cell_type": "markdown",
   "metadata": {},
   "source": [
    "# Part 2"
   ]
  },
  {
   "cell_type": "code",
   "execution_count": 24,
   "metadata": {},
   "outputs": [
    {
     "data": {
      "text/plain": [
       "True"
      ]
     },
     "execution_count": 24,
     "metadata": {},
     "output_type": "execute_result"
    }
   ],
   "source": [
    "# test\n",
    "content = test_data\n",
    "\n",
    "res = [[x, y, launch_probe((x, y), content)] for x in range(-100, 100) for y in range(-100, 100)]\n",
    "res = [r for r in res if r[-1] is not None]\n",
    "len(res) == 112"
   ]
  },
  {
   "cell_type": "code",
   "execution_count": 26,
   "metadata": {},
   "outputs": [
    {
     "data": {
      "text/plain": [
       "1928"
      ]
     },
     "execution_count": 26,
     "metadata": {},
     "output_type": "execute_result"
    }
   ],
   "source": [
    "# test\n",
    "content = data\n",
    "\n",
    "# i don't like this solution\n",
    "res = [[x, y, launch_probe((x, y), content)] for x in range(-200, 500) for y in range(-200, 200)]\n",
    "res = [r for r in res if r[-1] is not None]\n",
    "len(res)"
   ]
  }
 ],
 "metadata": {
  "interpreter": {
   "hash": "397440ca27dd4f2db3754d30213d67198d7f32c89d82a8ff28a1eadbf5e56d70"
  },
  "kernelspec": {
   "display_name": "Python 3.8.7 64-bit ('advent': pyenv)",
   "language": "python",
   "name": "python3"
  },
  "language_info": {
   "codemirror_mode": {
    "name": "ipython",
    "version": 3
   },
   "file_extension": ".py",
   "mimetype": "text/x-python",
   "name": "python",
   "nbconvert_exporter": "python",
   "pygments_lexer": "ipython3",
   "version": "3.8.7"
  },
  "orig_nbformat": 4
 },
 "nbformat": 4,
 "nbformat_minor": 2
}
