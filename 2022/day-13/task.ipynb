{
 "cells": [
  {
   "cell_type": "code",
   "execution_count": 88,
   "metadata": {},
   "outputs": [],
   "source": [
    "import copy\n",
    "import functools\n",
    "import re\n",
    "\n",
    "import matplotlib.pyplot as plt\n",
    "import numpy as np\n",
    "import pandas as pd\n",
    "from aocd import get_data, submit\n",
    "\n",
    "DAY = 13\n",
    "YEAR = 2022"
   ]
  },
  {
   "cell_type": "code",
   "execution_count": 89,
   "metadata": {},
   "outputs": [],
   "source": [
    "# use real data\n",
    "raw = get_data(day=DAY, year=YEAR)\n",
    "\n",
    "# print(raw)"
   ]
  },
  {
   "cell_type": "code",
   "execution_count": 90,
   "metadata": {},
   "outputs": [],
   "source": [
    "def parse_data(data):\n",
    "    data = data.split(\"\\n\\n\")\n",
    "    data = [list(map(eval, d.split(\"\\n\"))) for d in data]\n",
    "    return data\n",
    "\n",
    "\n",
    "data = parse_data(raw)\n"
   ]
  },
  {
   "cell_type": "markdown",
   "metadata": {},
   "source": [
    "# Part 1"
   ]
  },
  {
   "cell_type": "code",
   "execution_count": 84,
   "metadata": {},
   "outputs": [
    {
     "data": {
      "text/plain": [
       "5529"
      ]
     },
     "execution_count": 84,
     "metadata": {},
     "output_type": "execute_result"
    }
   ],
   "source": [
    "def fix_pair(left, right):\n",
    "    if isinstance(left, int) and not isinstance(right, int):\n",
    "        return [[left], right]\n",
    "    if not isinstance(left, int) and isinstance(right, int):\n",
    "        return [left, [right]]\n",
    "    return [left, right]\n",
    "\n",
    "\n",
    "def is_ordered(left, right):\n",
    "    left, right = fix_pair(left, right)\n",
    "    if isinstance(left, int) and isinstance(right, int):\n",
    "        if left == right:\n",
    "            return 2\n",
    "        elif left < right:\n",
    "            return 1\n",
    "        else:\n",
    "            return 0\n",
    "\n",
    "    for idx in range(min(len(left), len(right))):\n",
    "        flag = is_ordered(left[idx], right[idx])\n",
    "        if flag != 2:\n",
    "            return flag\n",
    "\n",
    "    if len(left) == len(right):\n",
    "        return 2\n",
    "    elif len(left) < len(right):\n",
    "        return 1\n",
    "    else:\n",
    "        return 0\n",
    "\n",
    "\n",
    "indices = [idx + 1 for idx, pair in enumerate(data) if is_ordered(*pair)]\n",
    "result = sum(indices)\n",
    "result\n"
   ]
  },
  {
   "cell_type": "code",
   "execution_count": 85,
   "metadata": {},
   "outputs": [],
   "source": [
    "# submit(result, part=\"a\", day=DAY, year=YEAR)"
   ]
  },
  {
   "cell_type": "markdown",
   "metadata": {},
   "source": [
    "# Part 2"
   ]
  },
  {
   "cell_type": "code",
   "execution_count": 94,
   "metadata": {},
   "outputs": [
    {
     "data": {
      "text/plain": [
       "27690"
      ]
     },
     "execution_count": 94,
     "metadata": {},
     "output_type": "execute_result"
    }
   ],
   "source": [
    "# https://www.educative.io/answers/what-is-functoolscmptokey-in-python\n",
    "def compare(left, right):\n",
    "    if is_ordered(left, right) == 0:\n",
    "        return 1\n",
    "    elif is_ordered(left, right) == 1:\n",
    "        return -1\n",
    "    else:\n",
    "        return 0\n",
    "\n",
    "new_packets = [[[2]], [[6]]]\n",
    "new_data = [p for packets in data for p in packets] + new_packets\n",
    "new_data = sorted(new_data, key=functools.cmp_to_key(compare))\n",
    "\n",
    "result = np.prod([new_data.index(p) + 1 for p in new_packets])\n",
    "result\n"
   ]
  },
  {
   "cell_type": "code",
   "execution_count": 95,
   "metadata": {},
   "outputs": [],
   "source": [
    "# submit(result, part=\"b\", day=DAY, year=YEAR)"
   ]
  }
 ],
 "metadata": {
  "kernelspec": {
   "display_name": "Python 3.10.4 64-bit ('aoc-2022')",
   "language": "python",
   "name": "python3"
  },
  "language_info": {
   "codemirror_mode": {
    "name": "ipython",
    "version": 3
   },
   "file_extension": ".py",
   "mimetype": "text/x-python",
   "name": "python",
   "nbconvert_exporter": "python",
   "pygments_lexer": "ipython3",
   "version": "3.10.4"
  },
  "orig_nbformat": 4,
  "vscode": {
   "interpreter": {
    "hash": "5624460fa9e1cd9da4e6994541d8ff42604db2bd2a1d59618c452d0f7bde50e7"
   }
  }
 },
 "nbformat": 4,
 "nbformat_minor": 2
}
