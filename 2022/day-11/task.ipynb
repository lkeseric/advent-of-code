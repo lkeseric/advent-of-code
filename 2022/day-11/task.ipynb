{
 "cells": [
  {
   "cell_type": "code",
   "execution_count": 271,
   "metadata": {},
   "outputs": [],
   "source": [
    "import copy\n",
    "import re\n",
    "\n",
    "import matplotlib.pyplot as plt\n",
    "import numpy as np\n",
    "import pandas as pd\n",
    "from aocd import get_data, submit\n",
    "\n",
    "DAY = 11\n",
    "YEAR = 2022"
   ]
  },
  {
   "cell_type": "code",
   "execution_count": 284,
   "metadata": {},
   "outputs": [],
   "source": [
    "# use real data\n",
    "raw = get_data(day=DAY, year=YEAR)\n",
    "\n",
    "# print(raw)"
   ]
  },
  {
   "cell_type": "code",
   "execution_count": 297,
   "metadata": {},
   "outputs": [
    {
     "name": "stdout",
     "output_type": "stream",
     "text": [
      "Monkey 0:\n",
      "  Starting items: 74, 64, 74, 63, 53\n",
      "  Operation: new = old * 7\n",
      "  Test: divisible by 5\n",
      "    If true: throw to monkey 1\n",
      "    If false: throw to monkey 6\n",
      "\n",
      "Monkey 1:\n",
      "  Starting items: 69, 99, 95, 62\n",
      "  Operation: new = old * old\n",
      "  Test: divisible by 17\n",
      "    If true: throw to monkey 2\n",
      "    If false: throw to monkey 5\n",
      "\n",
      "Monkey 2:\n",
      "  Starting items: 59, 81\n",
      "  Operation: new = old + 8\n",
      "  Test: divisible by 7\n",
      "    If true: throw to monkey 4\n",
      "    If false: throw to monkey 3\n",
      "\n",
      "Monkey 3:\n",
      "  Starting items: 50, 67, 63, 57, 63, 83, 97\n",
      "  Operation: new = old + 4\n",
      "  Test: divisible by 13\n",
      "    If true: throw to monkey 0\n",
      "    If false: throw to monkey 7\n",
      "\n",
      "Monkey 4:\n",
      "  Starting items: 61, 94, 85, 52, 81, 90, 94, 70\n",
      "  Operation: new = old + 3\n",
      "  Test: divisible by 19\n",
      "    If true: throw to monkey 7\n",
      "    If false: throw to monkey 3\n",
      "\n",
      "Monkey 5:\n",
      "  Starting items: 69\n",
      "  Operation: new = old + 5\n",
      "  Test: divisible by 3\n",
      "    If true: throw to monkey 4\n",
      "    If false: throw to monkey 2\n",
      "\n",
      "Monkey 6:\n",
      "  Starting items: 54, 55, 58\n",
      "  Operation: new = old + 7\n",
      "  Test: divisible by 11\n",
      "    If true: throw to monkey 1\n",
      "    If false: throw to monkey 5\n",
      "\n",
      "Monkey 7:\n",
      "  Starting items: 79, 51, 83, 88, 93, 76\n",
      "  Operation: new = old * 3\n",
      "  Test: divisible by 2\n",
      "    If true: throw to monkey 0\n",
      "    If false: throw to monkey 6\n"
     ]
    }
   ],
   "source": [
    "print(raw)"
   ]
  },
  {
   "cell_type": "code",
   "execution_count": 326,
   "metadata": {},
   "outputs": [],
   "source": [
    "class Monkey:\n",
    "    def __init__(self, line):\n",
    "        split = line.split(\"\\n\")\n",
    "        self.num = int(re.search(\"Monkey (\\d+)\", line).group(1))\n",
    "        self.items = np.array(re.findall(\"\\d+\", split[1]), dtype=int).tolist()\n",
    "        self.op = lambda old: eval(re.search(\"= (.*)$\", split[2]).group(1))\n",
    "        self.test = int(re.search(\"(\\d+)\", split[3]).group(1))\n",
    "        self.direction = np.array(\n",
    "            [re.search(\"(\\d+)\", split[4]).group(1), re.search(\"(\\d+)\", split[5]).group(1)], dtype=int\n",
    "        ).tolist()\n",
    "        self.num_counts = 0\n",
    "\n",
    "\n",
    "def parse_data(data):\n",
    "    data = data.split(\"\\n\\n\")\n",
    "    monkeys = {}\n",
    "    for line in data:\n",
    "        monkey = Monkey(line)\n",
    "        monkeys[monkey.num] = monkey\n",
    "    return monkeys\n",
    "\n",
    "\n",
    "data = parse_data(raw)"
   ]
  },
  {
   "cell_type": "markdown",
   "metadata": {},
   "source": [
    "# Part 1"
   ]
  },
  {
   "cell_type": "code",
   "execution_count": 328,
   "metadata": {},
   "outputs": [],
   "source": [
    "def play_round(before):\n",
    "    after = copy.deepcopy(before)\n",
    "    for num, monkey in before.items():\n",
    "        while len(after[num].items) > 0:\n",
    "            item = after[num].items.pop(0)\n",
    "            worry_level = monkey.op(item) // 3\n",
    "            after[num].num_counts += 1\n",
    "            if worry_level % monkey.test == 0:\n",
    "                after[monkey.direction[0]].items.append(worry_level)\n",
    "            else:\n",
    "                after[monkey.direction[1]].items.append(worry_level)\n",
    "    return after\n",
    "\n",
    "current = copy.deepcopy(data)\n",
    "for i in range(20):\n",
    "    current = play_round(current)\n"
   ]
  },
  {
   "cell_type": "code",
   "execution_count": 330,
   "metadata": {},
   "outputs": [
    {
     "data": {
      "text/plain": [
       "54054"
      ]
     },
     "execution_count": 330,
     "metadata": {},
     "output_type": "execute_result"
    }
   ],
   "source": [
    "result = np.prod(sorted([mv.num_counts for m, mv in current.items()])[-2:])\n",
    "result"
   ]
  },
  {
   "cell_type": "code",
   "execution_count": 288,
   "metadata": {},
   "outputs": [],
   "source": [
    "# submit(result, part=\"a\", day=DAY, year=YEAR)"
   ]
  },
  {
   "cell_type": "markdown",
   "metadata": {},
   "source": [
    "# Part 2"
   ]
  },
  {
   "cell_type": "code",
   "execution_count": 332,
   "metadata": {},
   "outputs": [],
   "source": [
    "prod_of_all_test = np.prod([m.test for m in data.values()])\n",
    "\n",
    "def play_round(before):\n",
    "    after = copy.deepcopy(before)\n",
    "    for num, monkey in before.items():\n",
    "        while len(after[num].items) > 0:\n",
    "            item = after[num].items.pop(0)\n",
    "            worry_level = monkey.op(item) % prod_of_all_test\n",
    "            after[num].num_counts += 1\n",
    "            if worry_level % monkey.test == 0:\n",
    "                after[monkey.direction[0]].items.append(worry_level)\n",
    "            else:\n",
    "                after[monkey.direction[1]].items.append(worry_level)\n",
    "    return after\n",
    "\n",
    "current = copy.deepcopy(data)\n",
    "for i in range(10000):\n",
    "    current = play_round(current)"
   ]
  },
  {
   "cell_type": "code",
   "execution_count": 333,
   "metadata": {},
   "outputs": [
    {
     "data": {
      "text/plain": [
       "14314925001"
      ]
     },
     "execution_count": 333,
     "metadata": {},
     "output_type": "execute_result"
    }
   ],
   "source": [
    "result = np.prod(sorted([mv.num_counts for m, mv in current.items()])[-2:])\n",
    "result"
   ]
  },
  {
   "cell_type": "code",
   "execution_count": 291,
   "metadata": {},
   "outputs": [
    {
     "name": "stdout",
     "output_type": "stream",
     "text": [
      "That's the right answer!  You are one gold star closer to collecting enough star fruit.You have completed Day 11! You can [Shareon\n",
      "  Twitter\n",
      "Mastodon] this victory or [Return to Your Advent Calendar].\n"
     ]
    },
    {
     "data": {
      "text/plain": [
       "<Response [200]>"
      ]
     },
     "execution_count": 291,
     "metadata": {},
     "output_type": "execute_result"
    }
   ],
   "source": [
    "# submit(result, part=\"b\", day=DAY, year=YEAR)"
   ]
  }
 ],
 "metadata": {
  "kernelspec": {
   "display_name": "Python 3.10.4 64-bit ('aoc-2022')",
   "language": "python",
   "name": "python3"
  },
  "language_info": {
   "codemirror_mode": {
    "name": "ipython",
    "version": 3
   },
   "file_extension": ".py",
   "mimetype": "text/x-python",
   "name": "python",
   "nbconvert_exporter": "python",
   "pygments_lexer": "ipython3",
   "version": "3.10.4 (main, Nov 30 2022, 16:56:30) [Clang 14.0.0 (clang-1400.0.29.202)]"
  },
  "orig_nbformat": 4,
  "vscode": {
   "interpreter": {
    "hash": "5624460fa9e1cd9da4e6994541d8ff42604db2bd2a1d59618c452d0f7bde50e7"
   }
  }
 },
 "nbformat": 4,
 "nbformat_minor": 2
}
