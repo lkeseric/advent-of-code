{
 "cells": [
  {
   "cell_type": "code",
   "execution_count": 34,
   "metadata": {},
   "outputs": [],
   "source": [
    "import re\n",
    "\n",
    "import matplotlib.pyplot as plt\n",
    "import numpy as np\n",
    "import pandas as pd\n",
    "from aocd import get_data, submit\n",
    "\n",
    "DAY = 2\n",
    "YEAR = 2022\n",
    "\n",
    "data = get_data(day=DAY, year=YEAR)\n",
    "# print(data)\n"
   ]
  },
  {
   "cell_type": "code",
   "execution_count": 35,
   "metadata": {},
   "outputs": [],
   "source": [
    "transform = {\n",
    "    'X': 'R',\n",
    "    'Y': 'P',\n",
    "    'Z': 'S',\n",
    "    'A': 'R',\n",
    "    'B': 'P',\n",
    "    'C': 'S'\n",
    "}\n",
    "\n",
    "def process(data):\n",
    "    data=data.split('\\n')\n",
    "    data = [d.split(' ') for d in data]\n",
    "\n",
    "    return data\n",
    "\n",
    "data = process(data)"
   ]
  },
  {
   "cell_type": "markdown",
   "metadata": {},
   "source": [
    "# Part 1"
   ]
  },
  {
   "cell_type": "code",
   "execution_count": 64,
   "metadata": {},
   "outputs": [
    {
     "data": {
      "text/plain": [
       "10310"
      ]
     },
     "execution_count": 64,
     "metadata": {},
     "output_type": "execute_result"
    }
   ],
   "source": [
    "shape_val = {\n",
    "    \"R\": 1,\n",
    "    \"P\": 2,\n",
    "    \"S\": 3,\n",
    "}\n",
    "order = [\"R\", \"P\", \"S\"]\n",
    "\n",
    "\n",
    "def calc_score(theirs, ours, convert=True):\n",
    "    if convert:\n",
    "        theirs = transform[theirs]\n",
    "        ours = transform[ours]\n",
    "\n",
    "    theirs_idx = order.index(theirs)\n",
    "    ours_idx = order.index(ours)\n",
    "\n",
    "    score = 0\n",
    "    score += shape_val[ours]\n",
    "\n",
    "    if theirs_idx == ours_idx:\n",
    "        score += 3\n",
    "    elif theirs_idx == (ours_idx - 1) % len(order):  # the current is always beaten by the next one (P covers R)\n",
    "        score += 6\n",
    "    else:\n",
    "        pass\n",
    "\n",
    "    return score\n",
    "\n",
    "\n",
    "result = np.sum([calc_score(*d) for d in data])\n",
    "result\n",
    "# calc_score('A','Y')\n"
   ]
  },
  {
   "cell_type": "code",
   "execution_count": 27,
   "metadata": {},
   "outputs": [
    {
     "name": "stdout",
     "output_type": "stream",
     "text": [
      "That's the right answer!  You are one gold star closer to collecting enough star fruit. [Continue to Part Two]\n"
     ]
    },
    {
     "data": {
      "text/plain": [
       "<Response [200]>"
      ]
     },
     "execution_count": 27,
     "metadata": {},
     "output_type": "execute_result"
    }
   ],
   "source": [
    "submit(result, part=\"a\", day=DAY, year=YEAR)"
   ]
  },
  {
   "cell_type": "markdown",
   "metadata": {},
   "source": [
    "# Part 2"
   ]
  },
  {
   "cell_type": "code",
   "execution_count": 72,
   "metadata": {},
   "outputs": [
    {
     "data": {
      "text/plain": [
       "14859"
      ]
     },
     "execution_count": 72,
     "metadata": {},
     "output_type": "execute_result"
    }
   ],
   "source": [
    "def find_ours(theirs, outcome):\n",
    "    theirs = transform[theirs]\n",
    "    theirs_idx = order.index(theirs)\n",
    "    ours_idx = None\n",
    "\n",
    "    if outcome == \"Y\":\n",
    "        ours_idx = theirs_idx\n",
    "    elif outcome == \"X\":  # we lose\n",
    "        ours_idx = (theirs_idx - 1) % len(order)\n",
    "    else:\n",
    "        ours_idx = (theirs_idx + 1) % len(order)\n",
    "\n",
    "    return theirs, order[ours_idx]\n",
    "\n",
    "\n",
    "def calc_score_v2(theirs, outcome):\n",
    "    theirs, ours = find_ours(theirs, outcome)\n",
    "    return calc_score(theirs, ours, convert=False)\n",
    "\n",
    "\n",
    "# calc_score_v2('A','Y')\n",
    "result = np.sum([calc_score_v2(*d) for d in data])\n",
    "result\n"
   ]
  },
  {
   "cell_type": "code",
   "execution_count": 45,
   "metadata": {},
   "outputs": [
    {
     "name": "stdout",
     "output_type": "stream",
     "text": [
      "That's the right answer!  You are one gold star closer to collecting enough star fruit.You have completed Day 2! You can [Shareon\n",
      "  Twitter\n",
      "Mastodon] this victory or [Return to Your Advent Calendar].\n"
     ]
    },
    {
     "data": {
      "text/plain": [
       "<Response [200]>"
      ]
     },
     "execution_count": 45,
     "metadata": {},
     "output_type": "execute_result"
    }
   ],
   "source": [
    "submit(result, part=\"b\", day=DAY, year=YEAR)"
   ]
  }
 ],
 "metadata": {
  "kernelspec": {
   "display_name": "Python 3.10.4 64-bit ('aoc-2022')",
   "language": "python",
   "name": "python3"
  },
  "language_info": {
   "codemirror_mode": {
    "name": "ipython",
    "version": 3
   },
   "file_extension": ".py",
   "mimetype": "text/x-python",
   "name": "python",
   "nbconvert_exporter": "python",
   "pygments_lexer": "ipython3",
   "version": "3.10.4"
  },
  "orig_nbformat": 4,
  "vscode": {
   "interpreter": {
    "hash": "5624460fa9e1cd9da4e6994541d8ff42604db2bd2a1d59618c452d0f7bde50e7"
   }
  }
 },
 "nbformat": 4,
 "nbformat_minor": 2
}
